{
 "cells": [
  {
   "cell_type": "markdown",
   "metadata": {},
   "source": [
    "first create a structured mesh of n*m cells.\n",
    "for example: is a 6X3 mesh\n"
   ]
  },
  {
   "cell_type": "code",
   "execution_count": 8,
   "metadata": {},
   "outputs": [],
   "source": [
    "import numpy as np\n",
    "\n",
    "# _ _ _ _ _ _\n",
    "#|_|_|_|_|_|_|\n",
    "#|_|_|_|_|_|_|\n",
    "#|_|_|_|_|_|_|\n",
    "\n",
    "n_rows        = 30\n",
    "n_columns     = 30\n",
    "n_nodes       = n_rows*n_columns\n",
    "conductivity  = 237 #alu w/m/k\n",
    "starting_temp = 273\n",
    "\n",
    "# spacing between nodes\n",
    "dx = 1\n",
    "dy = 1\n",
    "dz = 1"
   ]
  },
  {
   "cell_type": "markdown",
   "metadata": {},
   "source": [
    "there are:  \n",
    "18 elements, and therefore 18 nodes.  \n",
    "18 (2*n+2*m=) boundary faces  \n",
    "(n-1)*m + (m-1)*n internal faces.  \n",
    "(n+1) * (m+1) verticies\n",
    "\n",
    "The unknown quantity (Temperature for this case) is stored at the cell centres (nodes).\n",
    "An array for each governing equation should be created.\n",
    "\n",
    "The general continuum transport equation per unit volume to be solved for some quantity $\\phi$ is as follows:\n",
    "$$\n",
    "\\frac{\\partial (\\rho \\phi)}{\\partial t} + \\nabla \\cdot (\\rho v \\phi) = \\nabla\\cdot(\\Gamma^\\phi \\nabla_\\phi) + Q^\\phi\n",
    "$$\n",
    "\n",
    "For temperature diffusion through a solid in the steady state, the time derivive of $\\phi$ and the velocity ($v$) is zero and therefore the unsteady and the convective terms drop out leaving:\n",
    "\n",
    "$$\n",
    "-\\nabla\\cdot(\\Gamma^\\phi \\nabla_\\phi) = Q^\\phi \n",
    "$$\n",
    "\n",
    "which means the divergance of the gradient of the scalar field $\\phi$ (the gradient of a scalar field is a vector field) multiplied by the diffusion coefficient $\\Gamma^\\phi$ is equal to the source term.\n",
    "\n",
    "Moving from the generalized equation to one for temperature then gives:\n",
    "$$\n",
    "-\\nabla\\cdot(k \\nabla_T) = \\dot q\n",
    "$$\n",
    "where the diffusion coefficient is replaced with the thermal conductivity $k$ and the source term with the dissipation per unit volume $\\dot q$.\n",
    "\n",
    "Because this equation is linear, it fits into the matrix form. Non linear terms would need to first be linearized (radiation for example) \n",
    "$$\n",
    "A[T] = b\n",
    "$$\n",
    "\n",
    "The equation is then integrated over a control volume ( a single element) and using the divergence theorem to replace the divergence operation with a surface integral to obtain the energy balance.\n",
    "Approximating the surface integral with a sum over the faces of the control volume yields:\n",
    "$$\n",
    "-\\sum_{f~nb(C)} (k\\nabla T)_f \\cdot S_f = \\dot q_C V_C\n",
    "$$\n",
    "\n",
    "meaning that for each face $f$ of the control volume, the dot product of the temperature gradient (at the face) when multiplied with the thermal conductivity and the surface area of the face multiplied by the normal vector, will be equal to the dissipation within the cell multiplied by the volume. "
   ]
  },
  {
   "cell_type": "markdown",
   "metadata": {},
   "source": [
    "Because i want a structured grid that varies in the y and x directions to fit the curve \n",
    "of a 2d axisymmetric thruster, 2 additional arrays.\n",
    "The structured grid is represented by 1d arrays\n",
    "the node variables are stored in a n*m grid.  \n",
    "\n",
    "to begin we assume a isotropic grid with unit distance between nodes in each direction.\n",
    "The first step is then to assemble the global matrix"
   ]
  },
  {
   "cell_type": "markdown",
   "metadata": {},
   "source": [
    " \n",
    "$$"
   ]
  },
  {
   "cell_type": "code",
   "execution_count": 9,
   "metadata": {},
   "outputs": [],
   "source": [
    "# the coefficient matrix\n",
    "node_gamma = np.zeros([n_nodes, n_nodes])\n",
    "\n",
    "# the variable vector\n",
    "node_phi   = np.full((n_nodes), starting_temp)\n",
    "\n",
    "# the constant vector (source terms)\n",
    "node_b     = np.full((n_nodes), 0)\n",
    "\n",
    "for row in range(n_rows):\n",
    "    for column in range(n_columns):\n",
    "        node_id_C = row*n_columns + column\n",
    "        ac = 0\n",
    "\n",
    "        # insert right neighbor into A\n",
    "        if column < n_columns -1:\n",
    "            node_id_R = node_id_C + 1\n",
    "            a1 = -conductivity * (dy*dz) / dx #GL to right neighbor\n",
    "            node_gamma[node_id_C][node_id_R] = a1\n",
    "            ac += a1\n",
    "\n",
    "        #insert up neighbor into A\n",
    "        if row > 0:\n",
    "            a2 = -conductivity * (dx*dz) / dy #GL to up neighbor\n",
    "            node_id_U = node_id_C - n_columns\n",
    "            node_gamma[node_id_C][node_id_U] = a2\n",
    "            ac += a2\n",
    "\n",
    "        #insert left neighbor into A\n",
    "        if column > 0:\n",
    "            a3 = -conductivity * (dy*dz) / dx #GL to left neighbor\n",
    "            node_id_L = node_id_C - 1\n",
    "            node_gamma[node_id_C][node_id_L] = a3\n",
    "            ac += a3\n",
    "\n",
    "        # insert down neighbor into A\n",
    "        if row < n_rows -1:\n",
    "            a4 = -conductivity * (dx*dz) / dy #GL to down neighbor\n",
    "            node_id_D = node_id_C + n_columns \n",
    "            node_gamma[node_id_C][node_id_D] = a4\n",
    "            ac += a4\n",
    "\n",
    "        #insert this cell into A\n",
    "        node_gamma[node_id_C][node_id_C] = -ac\n",
    "\n",
    "#np.savetxt(\"node_gamma.csv\", node_gamma, delimiter=\",\")\n"
   ]
  },
  {
   "cell_type": "markdown",
   "metadata": {},
   "source": [
    "The solver to be used is the gauss siedel."
   ]
  },
  {
   "cell_type": "code",
   "execution_count": 10,
   "metadata": {},
   "outputs": [],
   "source": [
    "def gauss_seidel(A, b, x0, epsilon, max_iterations):\n",
    "    n = len(A)\n",
    "    x = x0.copy()\n",
    "\n",
    "    #Gauss-Seidal Method [By Bottom Science]\n",
    "\n",
    "    for i in range(max_iterations):\n",
    "        x_new = np.zeros(n)\n",
    "        for j in range(n):\n",
    "            s1 = np.dot(A[j, :j], x_new[:j])\n",
    "            s2 = np.dot(A[j, j + 1:], x[j + 1:])\n",
    "            x_new[j] = (b[j] - s1 - s2) / A[j, j]\n",
    "\n",
    "        if np.allclose(x, x_new, rtol=epsilon):\n",
    "            print(\"converged after: \" +str(i) + \" iterations\")\n",
    "            return x_new\n",
    "        x = x_new\n",
    "    return x"
   ]
  },
  {
   "cell_type": "code",
   "execution_count": 11,
   "metadata": {},
   "outputs": [
    {
     "name": "stdout",
     "output_type": "stream",
     "text": [
      "converged after: 78 iterations\n"
     ]
    }
   ],
   "source": [
    "node_gamma[0][:] = 0\n",
    "node_gamma[0][0] = 1\n",
    "\n",
    "node_gamma[-1][:] = 0\n",
    "node_gamma[-1][-1] = 1\n",
    "\n",
    "node_b[0]  = 100\n",
    "node_b[-1] = 150\n",
    "\n",
    "T = gauss_seidel(node_gamma, node_b, node_phi, 1e-3,1000)"
   ]
  },
  {
   "cell_type": "code",
   "execution_count": 13,
   "metadata": {},
   "outputs": [
    {
     "data": {
      "image/png": "[encoded data removed]",
      "text/plain": [
       "<Figure size 640x480 with 2 Axes>"
      ]
     },
     "metadata": {},
     "output_type": "display_data"
    }
   ],
   "source": [
    "import matplotlib.pyplot as plt\n",
    "\n",
    "plt.contourf(np.reshape(T, (-1, n_columns)))\n",
    "plt.colorbar()\n",
    "plt.grid()\n",
    "plt.show()"
   ]
  }
 ],
 "metadata": {
  "kernelspec": {
   "display_name": "base",
   "language": "python",
   "name": "python3"
  },
  "language_info": {
   "codemirror_mode": {
    "name": "ipython",
    "version": 3
   },
   "file_extension": ".py",
   "mimetype": "text/x-python",
   "name": "python",
   "nbconvert_exporter": "python",
   "pygments_lexer": "ipython3",
   "version": "3.11.7"
  }
 },
 "nbformat": 4,
 "nbformat_minor": 2
}
